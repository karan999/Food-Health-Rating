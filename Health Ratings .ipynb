{
 "cells": [
  {
   "cell_type": "code",
   "execution_count": 1,
   "metadata": {
    "collapsed": true
   },
   "outputs": [],
   "source": [
    "import requests \n",
    "import urllib\n",
    "from bs4 import BeautifulSoup\n",
    "import os "
   ]
  },
  {
   "cell_type": "code",
   "execution_count": 2,
   "metadata": {
    "collapsed": true
   },
   "outputs": [],
   "source": [
    "re = urllib.request.urlopen('http://ratings.food.gov.uk/open-data/en-GB').read()"
   ]
  },
  {
   "cell_type": "code",
   "execution_count": 3,
   "metadata": {},
   "outputs": [
    {
     "name": "stderr",
     "output_type": "stream",
     "text": [
      "C:\\Users\\karan\\Anaconda3\\lib\\site-packages\\bs4\\__init__.py:181: UserWarning: No parser was explicitly specified, so I'm using the best available HTML parser for this system (\"lxml\"). This usually isn't a problem, but if you run this code on another system, or in a different virtual environment, it may use a different parser and behave differently.\n",
      "\n",
      "The code that caused this warning is on line 193 of the file C:\\Users\\karan\\Anaconda3\\lib\\runpy.py. To get rid of this warning, change code that looks like this:\n",
      "\n",
      " BeautifulSoup(YOUR_MARKUP})\n",
      "\n",
      "to this:\n",
      "\n",
      " BeautifulSoup(YOUR_MARKUP, \"lxml\")\n",
      "\n",
      "  markup_type=markup_type))\n"
     ]
    }
   ],
   "source": [
    "soup = BeautifulSoup(re)"
   ]
  },
  {
   "cell_type": "code",
   "execution_count": 4,
   "metadata": {},
   "outputs": [
    {
     "data": {
      "text/plain": [
       "188"
      ]
     },
     "execution_count": 4,
     "metadata": {},
     "output_type": "execute_result"
    }
   ],
   "source": [
    "len(soup.find('table').find_all('td'))"
   ]
  },
  {
   "cell_type": "code",
   "execution_count": 5,
   "metadata": {},
   "outputs": [
    {
     "data": {
      "text/plain": [
       "'Bedford: English language'"
      ]
     },
     "execution_count": 5,
     "metadata": {},
     "output_type": "execute_result"
    }
   ],
   "source": [
    "soup.find('table').find_all('td')[11].find('a')['title']"
   ]
  },
  {
   "cell_type": "code",
   "execution_count": 6,
   "metadata": {
    "scrolled": true
   },
   "outputs": [
    {
     "data": {
      "text/plain": [
       "'http://ratings.food.gov.uk/OpenDataFiles/FHRS701en-GB.xml'"
      ]
     },
     "execution_count": 6,
     "metadata": {},
     "output_type": "execute_result"
    }
   ],
   "source": [
    "soup.find('table').find_all('td')[11].find('a')['href']"
   ]
  },
  {
   "cell_type": "code",
   "execution_count": 7,
   "metadata": {
    "collapsed": true
   },
   "outputs": [],
   "source": [
    "test = soup.find('table').find_all('td')"
   ]
  },
  {
   "cell_type": "code",
   "execution_count": 8,
   "metadata": {},
   "outputs": [
    {
     "data": {
      "text/plain": [
       "188"
      ]
     },
     "execution_count": 8,
     "metadata": {},
     "output_type": "execute_result"
    }
   ],
   "source": [
    "len(test)"
   ]
  },
  {
   "cell_type": "code",
   "execution_count": 9,
   "metadata": {},
   "outputs": [
    {
     "data": {
      "text/plain": [
       "<td>\n",
       "<a href=\"http://ratings.food.gov.uk/OpenDataFiles/FHRS164en-GB.xml\" id=\"listRegions_lvFiles_0_fileURLLabel_46\" title=\"Welwyn Hatfield: English language\">English language</a>\n",
       "</td>"
      ]
     },
     "execution_count": 9,
     "metadata": {},
     "output_type": "execute_result"
    }
   ],
   "source": [
    "soup.find('table').find_all('td')[187]"
   ]
  },
  {
   "cell_type": "code",
   "execution_count": 10,
   "metadata": {
    "collapsed": true
   },
   "outputs": [],
   "source": [
    "test2 = soup.find('div' , {'id' : 'openDataStatic'})"
   ]
  },
  {
   "cell_type": "code",
   "execution_count": 11,
   "metadata": {
    "collapsed": true
   },
   "outputs": [],
   "source": [
    "test3 = test2.find_all('td')"
   ]
  },
  {
   "cell_type": "code",
   "execution_count": 12,
   "metadata": {},
   "outputs": [
    {
     "data": {
      "text/plain": [
       "[<h2>Downloadable XML data files (updated daily)</h2>, <h2>\n",
       "                                     East Counties</h2>, <h2>\n",
       "                                     East Midlands</h2>, <h2>\n",
       "                                     London</h2>, <h2>\n",
       "                                     North East</h2>, <h2>\n",
       "                                     North West</h2>, <h2>\n",
       "                                     South East</h2>, <h2>\n",
       "                                     South West</h2>, <h2>\n",
       "                                     West Midlands</h2>, <h2>\n",
       "                                     Yorkshire and Humberside</h2>, <h2>\n",
       "                                     Northern Ireland</h2>, <h2>\n",
       "                                     Scotland</h2>, <h2>\n",
       "                                     Wales</h2>]"
      ]
     },
     "execution_count": 12,
     "metadata": {},
     "output_type": "execute_result"
    }
   ],
   "source": [
    "test2.find_all('h2')"
   ]
  },
  {
   "cell_type": "code",
   "execution_count": 13,
   "metadata": {
    "collapsed": true
   },
   "outputs": [],
   "source": [
    "health_rating_url = {}"
   ]
  },
  {
   "cell_type": "code",
   "execution_count": 15,
   "metadata": {},
   "outputs": [
    {
     "name": "stdout",
     "output_type": "stream",
     "text": [
      "Babergh: English language http://ratings.food.gov.uk/OpenDataFiles/FHRS297en-GB.xml\n",
      "Basildon: English language http://ratings.food.gov.uk/OpenDataFiles/FHRS109en-GB.xml\n",
      "Bedford: English language http://ratings.food.gov.uk/OpenDataFiles/FHRS701en-GB.xml\n",
      "Braintree: English language http://ratings.food.gov.uk/OpenDataFiles/FHRS110en-GB.xml\n",
      "Breckland: English language http://ratings.food.gov.uk/OpenDataFiles/FHRS227en-GB.xml\n",
      "Brentwood: English language http://ratings.food.gov.uk/OpenDataFiles/FHRS111en-GB.xml\n",
      "Broadland: English language http://ratings.food.gov.uk/OpenDataFiles/FHRS228en-GB.xml\n",
      "Broxbourne: English language http://ratings.food.gov.uk/OpenDataFiles/FHRS155en-GB.xml\n",
      "Cambridge City: English language http://ratings.food.gov.uk/OpenDataFiles/FHRS027en-GB.xml\n",
      "Castle Point: English language http://ratings.food.gov.uk/OpenDataFiles/FHRS112en-GB.xml\n",
      "Central Bedfordshire: English language http://ratings.food.gov.uk/OpenDataFiles/FHRS702en-GB.xml\n",
      "Chelmsford: English language http://ratings.food.gov.uk/OpenDataFiles/FHRS113en-GB.xml\n",
      "Colchester: English language http://ratings.food.gov.uk/OpenDataFiles/FHRS114en-GB.xml\n",
      "Dacorum: English language http://ratings.food.gov.uk/OpenDataFiles/FHRS156en-GB.xml\n",
      "East Cambridgeshire: English language http://ratings.food.gov.uk/OpenDataFiles/FHRS028en-GB.xml\n",
      "East Hertfordshire: English language http://ratings.food.gov.uk/OpenDataFiles/FHRS157en-GB.xml\n",
      "Epping Forest: English language http://ratings.food.gov.uk/OpenDataFiles/FHRS115en-GB.xml\n",
      "Fenland: English language http://ratings.food.gov.uk/OpenDataFiles/FHRS029en-GB.xml\n",
      "Forest Heath: English language http://ratings.food.gov.uk/OpenDataFiles/FHRS298en-GB.xml\n",
      "Great Yarmouth: English language http://ratings.food.gov.uk/OpenDataFiles/FHRS229en-GB.xml\n",
      "Harlow: English language http://ratings.food.gov.uk/OpenDataFiles/FHRS116en-GB.xml\n",
      "Hertsmere: English language http://ratings.food.gov.uk/OpenDataFiles/FHRS158en-GB.xml\n",
      "Huntingdonshire: English language http://ratings.food.gov.uk/OpenDataFiles/FHRS030en-GB.xml\n",
      "Ipswich: English language http://ratings.food.gov.uk/OpenDataFiles/FHRS299en-GB.xml\n",
      "King's Lynn and West Norfolk: English language http://ratings.food.gov.uk/OpenDataFiles/FHRS230en-GB.xml\n",
      "Luton: English language http://ratings.food.gov.uk/OpenDataFiles/FHRS869en-GB.xml\n",
      "Maldon: English language http://ratings.food.gov.uk/OpenDataFiles/FHRS117en-GB.xml\n",
      "Mid Suffolk: English language http://ratings.food.gov.uk/OpenDataFiles/FHRS300en-GB.xml\n",
      "North Hertfordshire: English language http://ratings.food.gov.uk/OpenDataFiles/FHRS159en-GB.xml\n",
      "North Norfolk: English language http://ratings.food.gov.uk/OpenDataFiles/FHRS231en-GB.xml\n",
      "Norwich City: English language http://ratings.food.gov.uk/OpenDataFiles/FHRS232en-GB.xml\n",
      "Peterborough City: English language http://ratings.food.gov.uk/OpenDataFiles/FHRS888en-GB.xml\n",
      "Rochford: English language http://ratings.food.gov.uk/OpenDataFiles/FHRS118en-GB.xml\n",
      "South Cambridgeshire: English language http://ratings.food.gov.uk/OpenDataFiles/FHRS032en-GB.xml\n",
      "South Norfolk: English language http://ratings.food.gov.uk/OpenDataFiles/FHRS233en-GB.xml\n",
      "Southend-On-Sea: English language http://ratings.food.gov.uk/OpenDataFiles/FHRS893en-GB.xml\n",
      "St Albans City: English language http://ratings.food.gov.uk/OpenDataFiles/FHRS160en-GB.xml\n",
      "St Edmundsbury: English language http://ratings.food.gov.uk/OpenDataFiles/FHRS301en-GB.xml\n",
      "Stevenage: English language http://ratings.food.gov.uk/OpenDataFiles/FHRS161en-GB.xml\n",
      "Suffolk Coastal: English language http://ratings.food.gov.uk/OpenDataFiles/FHRS302en-GB.xml\n",
      "Tendring: English language http://ratings.food.gov.uk/OpenDataFiles/FHRS120en-GB.xml\n",
      "Three Rivers: English language http://ratings.food.gov.uk/OpenDataFiles/FHRS162en-GB.xml\n",
      "Thurrock: English language http://ratings.food.gov.uk/OpenDataFiles/FHRS894en-GB.xml\n",
      "Uttlesford: English language http://ratings.food.gov.uk/OpenDataFiles/FHRS122en-GB.xml\n",
      "Watford: English language http://ratings.food.gov.uk/OpenDataFiles/FHRS163en-GB.xml\n",
      "Waveney: English language http://ratings.food.gov.uk/OpenDataFiles/FHRS303en-GB.xml\n",
      "Welwyn Hatfield: English language http://ratings.food.gov.uk/OpenDataFiles/FHRS164en-GB.xml\n",
      "Amber Valley: English language http://ratings.food.gov.uk/OpenDataFiles/FHRS062en-GB.xml\n",
      "Ashfield: English language http://ratings.food.gov.uk/OpenDataFiles/FHRS259en-GB.xml\n",
      "Bassetlaw: English language http://ratings.food.gov.uk/OpenDataFiles/FHRS260en-GB.xml\n",
      "Blaby: English language http://ratings.food.gov.uk/OpenDataFiles/FHRS209en-GB.xml\n",
      "Bolsover: English language http://ratings.food.gov.uk/OpenDataFiles/FHRS063en-GB.xml\n",
      "Boston: English language http://ratings.food.gov.uk/OpenDataFiles/FHRS219en-GB.xml\n",
      "Broxtowe: English language http://ratings.food.gov.uk/OpenDataFiles/FHRS261en-GB.xml\n",
      "Charnwood: English language http://ratings.food.gov.uk/OpenDataFiles/FHRS210en-GB.xml\n",
      "Chesterfield: English language http://ratings.food.gov.uk/OpenDataFiles/FHRS064en-GB.xml\n",
      "Corby: English language http://ratings.food.gov.uk/OpenDataFiles/FHRS235en-GB.xml\n",
      "Daventry: English language http://ratings.food.gov.uk/OpenDataFiles/FHRS236en-GB.xml\n",
      "Derby City: English language http://ratings.food.gov.uk/OpenDataFiles/FHRS871en-GB.xml\n",
      "Derbyshire Dales: English language http://ratings.food.gov.uk/OpenDataFiles/FHRS070en-GB.xml\n",
      "East Lindsey: English language http://ratings.food.gov.uk/OpenDataFiles/FHRS220en-GB.xml\n",
      "East Northamptonshire: English language http://ratings.food.gov.uk/OpenDataFiles/FHRS237en-GB.xml\n",
      "Erewash: English language http://ratings.food.gov.uk/OpenDataFiles/FHRS066en-GB.xml\n",
      "Gedling: English language http://ratings.food.gov.uk/OpenDataFiles/FHRS262en-GB.xml\n",
      "Harborough: English language http://ratings.food.gov.uk/OpenDataFiles/FHRS211en-GB.xml\n",
      "High Peak: English language http://ratings.food.gov.uk/OpenDataFiles/FHRS067en-GB.xml\n",
      "Hinckley and Bosworth: English language http://ratings.food.gov.uk/OpenDataFiles/FHRS212en-GB.xml\n",
      "Kettering: English language http://ratings.food.gov.uk/OpenDataFiles/FHRS238en-GB.xml\n",
      "Leicester City: English language http://ratings.food.gov.uk/OpenDataFiles/FHRS878en-GB.xml\n",
      "Lincoln City: English language http://ratings.food.gov.uk/OpenDataFiles/FHRS221en-GB.xml\n",
      "Mansfield: English language http://ratings.food.gov.uk/OpenDataFiles/FHRS263en-GB.xml\n",
      "Melton: English language http://ratings.food.gov.uk/OpenDataFiles/FHRS214en-GB.xml\n",
      "Newark and Sherwood: English language http://ratings.food.gov.uk/OpenDataFiles/FHRS264en-GB.xml\n",
      "North East Derbyshire: English language http://ratings.food.gov.uk/OpenDataFiles/FHRS068en-GB.xml\n",
      "North Kesteven: English language http://ratings.food.gov.uk/OpenDataFiles/FHRS222en-GB.xml\n",
      "North West Leicestershire: English language http://ratings.food.gov.uk/OpenDataFiles/FHRS215en-GB.xml\n",
      "Northampton: English language http://ratings.food.gov.uk/OpenDataFiles/FHRS239en-GB.xml\n",
      "Nottingham City: English language http://ratings.food.gov.uk/OpenDataFiles/FHRS899en-GB.xml\n",
      "Oadby and Wigston: English language http://ratings.food.gov.uk/OpenDataFiles/FHRS216en-GB.xml\n",
      "Rushcliffe: English language http://ratings.food.gov.uk/OpenDataFiles/FHRS266en-GB.xml\n",
      "Rutland: English language http://ratings.food.gov.uk/OpenDataFiles/FHRS879en-GB.xml\n",
      "South Derbyshire: English language http://ratings.food.gov.uk/OpenDataFiles/FHRS069en-GB.xml\n",
      "South Holland: English language http://ratings.food.gov.uk/OpenDataFiles/FHRS223en-GB.xml\n",
      "South Kesteven: English language http://ratings.food.gov.uk/OpenDataFiles/FHRS224en-GB.xml\n",
      "South Northamptonshire: English language http://ratings.food.gov.uk/OpenDataFiles/FHRS240en-GB.xml\n",
      "Wellingborough: English language http://ratings.food.gov.uk/OpenDataFiles/FHRS241en-GB.xml\n",
      "West Lindsey: English language http://ratings.food.gov.uk/OpenDataFiles/FHRS225en-GB.xml\n",
      "Barking and Dagenham: English language http://ratings.food.gov.uk/OpenDataFiles/FHRS501en-GB.xml\n",
      "Barnet: English language http://ratings.food.gov.uk/OpenDataFiles/FHRS502en-GB.xml\n",
      "Bexley: English language http://ratings.food.gov.uk/OpenDataFiles/FHRS503en-GB.xml\n",
      "Brent: English language http://ratings.food.gov.uk/OpenDataFiles/FHRS504en-GB.xml\n",
      "Bromley: English language http://ratings.food.gov.uk/OpenDataFiles/FHRS505en-GB.xml\n",
      "Camden: English language http://ratings.food.gov.uk/OpenDataFiles/FHRS506en-GB.xml\n",
      "City of London Corporation: English language http://ratings.food.gov.uk/OpenDataFiles/FHRS508en-GB.xml\n",
      "Croydon: English language http://ratings.food.gov.uk/OpenDataFiles/FHRS507en-GB.xml\n",
      "Ealing: English language http://ratings.food.gov.uk/OpenDataFiles/FHRS509en-GB.xml\n",
      "Enfield: English language http://ratings.food.gov.uk/OpenDataFiles/FHRS510en-GB.xml\n",
      "Greenwich: English language http://ratings.food.gov.uk/OpenDataFiles/FHRS511en-GB.xml\n",
      "Hackney: English language http://ratings.food.gov.uk/OpenDataFiles/FHRS512en-GB.xml\n",
      "Hammersmith and Fulham: English language http://ratings.food.gov.uk/OpenDataFiles/FHRS513en-GB.xml\n",
      "Haringey: English language http://ratings.food.gov.uk/OpenDataFiles/FHRS514en-GB.xml\n",
      "Harrow: English language http://ratings.food.gov.uk/OpenDataFiles/FHRS515en-GB.xml\n",
      "Havering: English language http://ratings.food.gov.uk/OpenDataFiles/FHRS516en-GB.xml\n",
      "Hillingdon: English language http://ratings.food.gov.uk/OpenDataFiles/FHRS517en-GB.xml\n",
      "Hounslow: English language http://ratings.food.gov.uk/OpenDataFiles/FHRS518en-GB.xml\n",
      "Islington: English language http://ratings.food.gov.uk/OpenDataFiles/FHRS519en-GB.xml\n",
      "Kensington and Chelsea: English language http://ratings.food.gov.uk/OpenDataFiles/FHRS520en-GB.xml\n",
      "Kingston-Upon-Thames: English language http://ratings.food.gov.uk/OpenDataFiles/FHRS521en-GB.xml\n",
      "Lambeth: English language http://ratings.food.gov.uk/OpenDataFiles/FHRS522en-GB.xml\n",
      "Lewisham: English language http://ratings.food.gov.uk/OpenDataFiles/FHRS523en-GB.xml\n",
      "Merton: English language http://ratings.food.gov.uk/OpenDataFiles/FHRS524en-GB.xml\n",
      "Newham: English language http://ratings.food.gov.uk/OpenDataFiles/FHRS525en-GB.xml\n",
      "Redbridge: English language http://ratings.food.gov.uk/OpenDataFiles/FHRS526en-GB.xml\n",
      "Richmond-Upon-Thames: English language http://ratings.food.gov.uk/OpenDataFiles/FHRS527en-GB.xml\n",
      "Southwark: English language http://ratings.food.gov.uk/OpenDataFiles/FHRS528en-GB.xml\n",
      "Sutton: English language http://ratings.food.gov.uk/OpenDataFiles/FHRS529en-GB.xml\n",
      "Tower Hamlets: English language http://ratings.food.gov.uk/OpenDataFiles/FHRS530en-GB.xml\n",
      "Waltham Forest: English language http://ratings.food.gov.uk/OpenDataFiles/FHRS531en-GB.xml\n",
      "Wandsworth: English language http://ratings.food.gov.uk/OpenDataFiles/FHRS532en-GB.xml\n",
      "Westminster: English language http://ratings.food.gov.uk/OpenDataFiles/FHRS533en-GB.xml\n",
      "Darlington: English language http://ratings.food.gov.uk/OpenDataFiles/FHRS874en-GB.xml\n",
      "Durham: English language http://ratings.food.gov.uk/OpenDataFiles/FHRS706en-GB.xml\n",
      "Gateshead: English language http://ratings.food.gov.uk/OpenDataFiles/FHRS410en-GB.xml\n",
      "Hartlepool: English language http://ratings.food.gov.uk/OpenDataFiles/FHRS859en-GB.xml\n",
      "Middlesbrough: English language http://ratings.food.gov.uk/OpenDataFiles/FHRS861en-GB.xml\n",
      "Newcastle Upon Tyne: English language http://ratings.food.gov.uk/OpenDataFiles/FHRS416en-GB.xml\n",
      "North Tyneside: English language http://ratings.food.gov.uk/OpenDataFiles/FHRS417en-GB.xml\n",
      "Northumberland: English language http://ratings.food.gov.uk/OpenDataFiles/FHRS707en-GB.xml\n",
      "Redcar and Cleveland: English language http://ratings.food.gov.uk/OpenDataFiles/FHRS860en-GB.xml\n",
      "River Tees: English language http://ratings.food.gov.uk/OpenDataFiles/FHRS648en-GB.xml\n",
      "South Tyneside: English language http://ratings.food.gov.uk/OpenDataFiles/FHRS427en-GB.xml\n",
      "Stockton On Tees: English language http://ratings.food.gov.uk/OpenDataFiles/FHRS862en-GB.xml\n",
      "Sunderland: English language http://ratings.food.gov.uk/OpenDataFiles/FHRS429en-GB.xml\n",
      "Allerdale: English language http://ratings.food.gov.uk/OpenDataFiles/FHRS055en-GB.xml\n",
      "Barrow-in-Furness: English language http://ratings.food.gov.uk/OpenDataFiles/FHRS056en-GB.xml\n",
      "Blackburn: English language http://ratings.food.gov.uk/OpenDataFiles/FHRS897en-GB.xml\n",
      "Blackpool: English language http://ratings.food.gov.uk/OpenDataFiles/FHRS898en-GB.xml\n",
      "Bolton: English language http://ratings.food.gov.uk/OpenDataFiles/FHRS403en-GB.xml\n",
      "Burnley: English language http://ratings.food.gov.uk/OpenDataFiles/FHRS196en-GB.xml\n",
      "Bury: English language http://ratings.food.gov.uk/OpenDataFiles/FHRS405en-GB.xml\n",
      "Carlisle City: English language http://ratings.food.gov.uk/OpenDataFiles/FHRS057en-GB.xml\n",
      "Cheshire East: English language http://ratings.food.gov.uk/OpenDataFiles/FHRS703en-GB.xml\n",
      "Cheshire West and Chester: English language http://ratings.food.gov.uk/OpenDataFiles/FHRS704en-GB.xml\n",
      "Chorley: English language http://ratings.food.gov.uk/OpenDataFiles/FHRS197en-GB.xml\n",
      "Copeland: English language http://ratings.food.gov.uk/OpenDataFiles/FHRS058en-GB.xml\n",
      "Eden: English language http://ratings.food.gov.uk/OpenDataFiles/FHRS059en-GB.xml\n",
      "Fylde: English language http://ratings.food.gov.uk/OpenDataFiles/FHRS198en-GB.xml\n",
      "Halton: English language http://ratings.food.gov.uk/OpenDataFiles/FHRS889en-GB.xml\n",
      "Hyndburn: English language http://ratings.food.gov.uk/OpenDataFiles/FHRS199en-GB.xml\n",
      "Knowsley: English language http://ratings.food.gov.uk/OpenDataFiles/FHRS412en-GB.xml\n",
      "Lancaster City: English language http://ratings.food.gov.uk/OpenDataFiles/FHRS200en-GB.xml\n",
      "Liverpool: English language http://ratings.food.gov.uk/OpenDataFiles/FHRS414en-GB.xml\n",
      "Manchester: English language http://ratings.food.gov.uk/OpenDataFiles/FHRS415en-GB.xml\n",
      "Oldham: English language http://ratings.food.gov.uk/OpenDataFiles/FHRS418en-GB.xml\n",
      "Pendle: English language http://ratings.food.gov.uk/OpenDataFiles/FHRS201en-GB.xml\n",
      "Preston: English language http://ratings.food.gov.uk/OpenDataFiles/FHRS202en-GB.xml\n",
      "Ribble Valley: English language http://ratings.food.gov.uk/OpenDataFiles/FHRS203en-GB.xml\n",
      "Rochdale: English language http://ratings.food.gov.uk/OpenDataFiles/FHRS419en-GB.xml\n",
      "Rossendale: English language http://ratings.food.gov.uk/OpenDataFiles/FHRS204en-GB.xml\n",
      "Salford: English language http://ratings.food.gov.uk/OpenDataFiles/FHRS422en-GB.xml\n",
      "Sefton: English language http://ratings.food.gov.uk/OpenDataFiles/FHRS424en-GB.xml\n",
      "South Lakeland: English language http://ratings.food.gov.uk/OpenDataFiles/FHRS060en-GB.xml\n",
      "South Ribble: English language http://ratings.food.gov.uk/OpenDataFiles/FHRS205en-GB.xml\n",
      "St Helens: English language http://ratings.food.gov.uk/OpenDataFiles/FHRS421en-GB.xml\n",
      "Stockport: English language http://ratings.food.gov.uk/OpenDataFiles/FHRS428en-GB.xml\n",
      "Tameside: English language http://ratings.food.gov.uk/OpenDataFiles/FHRS430en-GB.xml\n",
      "Trafford: English language http://ratings.food.gov.uk/OpenDataFiles/FHRS431en-GB.xml\n",
      "Warrington: English language http://ratings.food.gov.uk/OpenDataFiles/FHRS890en-GB.xml\n",
      "West Lancashire: English language http://ratings.food.gov.uk/OpenDataFiles/FHRS206en-GB.xml\n",
      "Wigan: English language http://ratings.food.gov.uk/OpenDataFiles/FHRS434en-GB.xml\n",
      "Wirral: English language http://ratings.food.gov.uk/OpenDataFiles/FHRS435en-GB.xml\n",
      "Wyre: English language http://ratings.food.gov.uk/OpenDataFiles/FHRS207en-GB.xml\n",
      "Adur: English language http://ratings.food.gov.uk/OpenDataFiles/FHRS323en-GB.xml\n",
      "Arun: English language http://ratings.food.gov.uk/OpenDataFiles/FHRS324en-GB.xml\n",
      "Ashford: English language http://ratings.food.gov.uk/OpenDataFiles/FHRS179en-GB.xml\n",
      "Aylesbury Vale: English language http://ratings.food.gov.uk/OpenDataFiles/FHRS021en-GB.xml\n",
      "Basingstoke and Deane: English language http://ratings.food.gov.uk/OpenDataFiles/FHRS131en-GB.xml\n",
      "Bracknell Forest: English language http://ratings.food.gov.uk/OpenDataFiles/FHRS882en-GB.xml\n",
      "Brighton and Hove: English language http://ratings.food.gov.uk/OpenDataFiles/FHRS875en-GB.xml\n",
      "Canterbury City: English language http://ratings.food.gov.uk/OpenDataFiles/FHRS180en-GB.xml\n",
      "Cherwell: English language http://ratings.food.gov.uk/OpenDataFiles/FHRS268en-GB.xml\n",
      "Chichester: English language http://ratings.food.gov.uk/OpenDataFiles/FHRS325en-GB.xml\n",
      "Chiltern: English language http://ratings.food.gov.uk/OpenDataFiles/FHRS022en-GB.xml\n",
      "Crawley: English language http://ratings.food.gov.uk/OpenDataFiles/FHRS326en-GB.xml\n",
      "Dartford: English language http://ratings.food.gov.uk/OpenDataFiles/FHRS181en-GB.xml\n",
      "Dover: English language http://ratings.food.gov.uk/OpenDataFiles/FHRS182en-GB.xml\n",
      "East Hampshire: English language http://ratings.food.gov.uk/OpenDataFiles/FHRS132en-GB.xml\n",
      "Eastbourne: English language http://ratings.food.gov.uk/OpenDataFiles/FHRS102en-GB.xml\n",
      "Eastleigh: English language http://ratings.food.gov.uk/OpenDataFiles/FHRS133en-GB.xml\n",
      "Elmbridge: English language http://ratings.food.gov.uk/OpenDataFiles/FHRS305en-GB.xml\n",
      "Epsom and Ewell: English language http://ratings.food.gov.uk/OpenDataFiles/FHRS306en-GB.xml\n",
      "Fareham: English language http://ratings.food.gov.uk/OpenDataFiles/FHRS134en-GB.xml\n",
      "Gosport: English language http://ratings.food.gov.uk/OpenDataFiles/FHRS135en-GB.xml\n",
      "Gravesham: English language http://ratings.food.gov.uk/OpenDataFiles/FHRS184en-GB.xml\n",
      "Guildford: English language http://ratings.food.gov.uk/OpenDataFiles/FHRS307en-GB.xml\n",
      "Hart: English language http://ratings.food.gov.uk/OpenDataFiles/FHRS136en-GB.xml\n",
      "Hastings: English language http://ratings.food.gov.uk/OpenDataFiles/FHRS103en-GB.xml\n",
      "Havant: English language http://ratings.food.gov.uk/OpenDataFiles/FHRS137en-GB.xml\n",
      "Horsham: English language http://ratings.food.gov.uk/OpenDataFiles/FHRS327en-GB.xml\n",
      "Isle of Wight: English language http://ratings.food.gov.uk/OpenDataFiles/FHRS867en-GB.xml\n",
      "Lewes: English language http://ratings.food.gov.uk/OpenDataFiles/FHRS105en-GB.xml\n",
      "Maidstone: English language http://ratings.food.gov.uk/OpenDataFiles/FHRS185en-GB.xml\n",
      "Medway: English language http://ratings.food.gov.uk/OpenDataFiles/FHRS896en-GB.xml\n",
      "Mid Sussex: English language http://ratings.food.gov.uk/OpenDataFiles/FHRS328en-GB.xml\n",
      "Milton Keynes: English language http://ratings.food.gov.uk/OpenDataFiles/FHRS870en-GB.xml\n",
      "Mole Valley: English language http://ratings.food.gov.uk/OpenDataFiles/FHRS308en-GB.xml\n",
      "New Forest: English language http://ratings.food.gov.uk/OpenDataFiles/FHRS138en-GB.xml\n",
      "Oxford City: English language http://ratings.food.gov.uk/OpenDataFiles/FHRS269en-GB.xml\n",
      "Portsmouth: English language http://ratings.food.gov.uk/OpenDataFiles/FHRS876en-GB.xml\n",
      "Reading: English language http://ratings.food.gov.uk/OpenDataFiles/FHRS884en-GB.xml\n",
      "Reigate and Banstead: English language http://ratings.food.gov.uk/OpenDataFiles/FHRS309en-GB.xml\n",
      "Rother: English language http://ratings.food.gov.uk/OpenDataFiles/FHRS106en-GB.xml\n",
      "Runnymede: English language http://ratings.food.gov.uk/OpenDataFiles/FHRS310en-GB.xml\n",
      "Rushmoor: English language http://ratings.food.gov.uk/OpenDataFiles/FHRS140en-GB.xml\n",
      "Sevenoaks: English language http://ratings.food.gov.uk/OpenDataFiles/FHRS187en-GB.xml\n",
      "Shepway: English language http://ratings.food.gov.uk/OpenDataFiles/FHRS188en-GB.xml\n",
      "Slough: English language http://ratings.food.gov.uk/OpenDataFiles/FHRS885en-GB.xml\n",
      "South Buckinghamshire: English language http://ratings.food.gov.uk/OpenDataFiles/FHRS024en-GB.xml\n",
      "South Oxfordshire: English language http://ratings.food.gov.uk/OpenDataFiles/FHRS270en-GB.xml\n",
      "Southampton: English language http://ratings.food.gov.uk/OpenDataFiles/FHRS877en-GB.xml\n",
      "Spelthorne: English language http://ratings.food.gov.uk/OpenDataFiles/FHRS311en-GB.xml\n",
      "Surrey Heath: English language http://ratings.food.gov.uk/OpenDataFiles/FHRS312en-GB.xml\n",
      "Swale: English language http://ratings.food.gov.uk/OpenDataFiles/FHRS189en-GB.xml\n",
      "Tandridge: English language http://ratings.food.gov.uk/OpenDataFiles/FHRS313en-GB.xml\n",
      "Test Valley: English language http://ratings.food.gov.uk/OpenDataFiles/FHRS142en-GB.xml\n",
      "Thanet: English language http://ratings.food.gov.uk/OpenDataFiles/FHRS190en-GB.xml\n",
      "Tonbridge and Malling: English language http://ratings.food.gov.uk/OpenDataFiles/FHRS191en-GB.xml\n",
      "Tunbridge Wells: English language http://ratings.food.gov.uk/OpenDataFiles/FHRS192en-GB.xml\n",
      "Vale of White Horse: English language http://ratings.food.gov.uk/OpenDataFiles/FHRS271en-GB.xml\n",
      "Waverley: English language http://ratings.food.gov.uk/OpenDataFiles/FHRS314en-GB.xml\n",
      "Wealden: English language http://ratings.food.gov.uk/OpenDataFiles/FHRS107en-GB.xml\n",
      "West Berkshire: English language http://ratings.food.gov.uk/OpenDataFiles/FHRS883en-GB.xml\n",
      "West Oxfordshire: English language http://ratings.food.gov.uk/OpenDataFiles/FHRS272en-GB.xml\n",
      "Winchester City: English language http://ratings.food.gov.uk/OpenDataFiles/FHRS143en-GB.xml\n",
      "Windsor and Maidenhead: English language http://ratings.food.gov.uk/OpenDataFiles/FHRS886en-GB.xml\n",
      "Woking: English language http://ratings.food.gov.uk/OpenDataFiles/FHRS315en-GB.xml\n",
      "Wokingham: English language http://ratings.food.gov.uk/OpenDataFiles/FHRS887en-GB.xml\n",
      "Worthing: English language http://ratings.food.gov.uk/OpenDataFiles/FHRS329en-GB.xml\n",
      "Wycombe: English language http://ratings.food.gov.uk/OpenDataFiles/FHRS025en-GB.xml\n",
      "Bath and North East Somerset: English language http://ratings.food.gov.uk/OpenDataFiles/FHRS857en-GB.xml\n",
      "Bournemouth: English language http://ratings.food.gov.uk/OpenDataFiles/FHRS872en-GB.xml\n",
      "Bristol: English language http://ratings.food.gov.uk/OpenDataFiles/FHRS855en-GB.xml\n",
      "Cheltenham: English language http://ratings.food.gov.uk/OpenDataFiles/FHRS124en-GB.xml\n",
      "Christchurch: English language http://ratings.food.gov.uk/OpenDataFiles/FHRS084en-GB.xml\n",
      "Cornwall: English language http://ratings.food.gov.uk/OpenDataFiles/FHRS705en-GB.xml\n",
      "Cotswold: English language http://ratings.food.gov.uk/OpenDataFiles/FHRS125en-GB.xml\n",
      "East Devon: English language http://ratings.food.gov.uk/OpenDataFiles/FHRS072en-GB.xml\n",
      "East Dorset: English language http://ratings.food.gov.uk/OpenDataFiles/FHRS085en-GB.xml\n",
      "Exeter City: English language http://ratings.food.gov.uk/OpenDataFiles/FHRS073en-GB.xml\n",
      "Forest of Dean: English language http://ratings.food.gov.uk/OpenDataFiles/FHRS126en-GB.xml\n",
      "Gloucester City: English language http://ratings.food.gov.uk/OpenDataFiles/FHRS127en-GB.xml\n",
      "Isles of Scilly: English language http://ratings.food.gov.uk/OpenDataFiles/FHRS336en-GB.xml\n",
      "Mendip: English language http://ratings.food.gov.uk/OpenDataFiles/FHRS281en-GB.xml\n",
      "Mid Devon: English language http://ratings.food.gov.uk/OpenDataFiles/FHRS074en-GB.xml\n",
      "North Devon: English language http://ratings.food.gov.uk/OpenDataFiles/FHRS075en-GB.xml\n",
      "North Dorset: English language http://ratings.food.gov.uk/OpenDataFiles/FHRS086en-GB.xml\n",
      "North Somerset: English language http://ratings.food.gov.uk/OpenDataFiles/FHRS858en-GB.xml\n",
      "Plymouth City: English language http://ratings.food.gov.uk/OpenDataFiles/FHRS891en-GB.xml\n",
      "Poole: English language http://ratings.food.gov.uk/OpenDataFiles/FHRS873en-GB.xml\n",
      "Purbeck: English language http://ratings.food.gov.uk/OpenDataFiles/FHRS088en-GB.xml\n",
      "Sedgemoor: English language http://ratings.food.gov.uk/OpenDataFiles/FHRS282en-GB.xml\n",
      "South Gloucestershire: English language http://ratings.food.gov.uk/OpenDataFiles/FHRS856en-GB.xml\n",
      "South Hams: English language http://ratings.food.gov.uk/OpenDataFiles/FHRS077en-GB.xml\n",
      "South Somerset: English language http://ratings.food.gov.uk/OpenDataFiles/FHRS283en-GB.xml\n",
      "Stroud: English language http://ratings.food.gov.uk/OpenDataFiles/FHRS128en-GB.xml\n",
      "Swindon: English language http://ratings.food.gov.uk/OpenDataFiles/FHRS881en-GB.xml\n",
      "Taunton Deane: English language http://ratings.food.gov.uk/OpenDataFiles/FHRS284en-GB.xml\n",
      "Teignbridge: English language http://ratings.food.gov.uk/OpenDataFiles/FHRS078en-GB.xml\n",
      "Tewkesbury: English language http://ratings.food.gov.uk/OpenDataFiles/FHRS129en-GB.xml\n",
      "Torbay: English language http://ratings.food.gov.uk/OpenDataFiles/FHRS892en-GB.xml\n",
      "Torridge: English language http://ratings.food.gov.uk/OpenDataFiles/FHRS080en-GB.xml\n",
      "West Devon: English language http://ratings.food.gov.uk/OpenDataFiles/FHRS081en-GB.xml\n",
      "West Dorset: English language http://ratings.food.gov.uk/OpenDataFiles/FHRS089en-GB.xml\n",
      "West Somerset: English language http://ratings.food.gov.uk/OpenDataFiles/FHRS285en-GB.xml\n",
      "Weymouth and Portland: English language http://ratings.food.gov.uk/OpenDataFiles/FHRS090en-GB.xml\n",
      "Wiltshire: English language http://ratings.food.gov.uk/OpenDataFiles/FHRS709en-GB.xml\n",
      "Birmingham: English language http://ratings.food.gov.uk/OpenDataFiles/FHRS402en-GB.xml\n",
      "Bromsgrove: English language http://ratings.food.gov.uk/OpenDataFiles/FHRS145en-GB.xml\n",
      "Cannock Chase: English language http://ratings.food.gov.uk/OpenDataFiles/FHRS287en-GB.xml\n",
      "Coventry: English language http://ratings.food.gov.uk/OpenDataFiles/FHRS407en-GB.xml\n",
      "Dudley: English language http://ratings.food.gov.uk/OpenDataFiles/FHRS409en-GB.xml\n",
      "East Staffordshire: English language http://ratings.food.gov.uk/OpenDataFiles/FHRS288en-GB.xml\n",
      "Herefordshire: English language http://ratings.food.gov.uk/OpenDataFiles/FHRS895en-GB.xml\n",
      "Lichfield: English language http://ratings.food.gov.uk/OpenDataFiles/FHRS289en-GB.xml\n",
      "Malvern Hills: English language http://ratings.food.gov.uk/OpenDataFiles/FHRS148en-GB.xml\n",
      "Newcastle-Under-Lyme: English language http://ratings.food.gov.uk/OpenDataFiles/FHRS290en-GB.xml\n",
      "North Warwickshire: English language http://ratings.food.gov.uk/OpenDataFiles/FHRS317en-GB.xml\n",
      "Nuneaton and Bedworth: English language http://ratings.food.gov.uk/OpenDataFiles/FHRS318en-GB.xml\n",
      "Redditch: English language http://ratings.food.gov.uk/OpenDataFiles/FHRS149en-GB.xml\n",
      "Rugby: English language http://ratings.food.gov.uk/OpenDataFiles/FHRS319en-GB.xml\n",
      "Sandwell: English language http://ratings.food.gov.uk/OpenDataFiles/FHRS423en-GB.xml\n",
      "Shropshire: English language http://ratings.food.gov.uk/OpenDataFiles/FHRS708en-GB.xml\n",
      "Solihull: English language http://ratings.food.gov.uk/OpenDataFiles/FHRS426en-GB.xml\n",
      "South Staffordshire: English language http://ratings.food.gov.uk/OpenDataFiles/FHRS291en-GB.xml\n",
      "Stafford: English language http://ratings.food.gov.uk/OpenDataFiles/FHRS292en-GB.xml\n",
      "Staffordshire Moorlands: English language http://ratings.food.gov.uk/OpenDataFiles/FHRS293en-GB.xml\n",
      "Stoke-On-Trent: English language http://ratings.food.gov.uk/OpenDataFiles/FHRS880en-GB.xml\n",
      "Stratford-on-Avon: English language http://ratings.food.gov.uk/OpenDataFiles/FHRS320en-GB.xml\n",
      "Tamworth: English language http://ratings.food.gov.uk/OpenDataFiles/FHRS295en-GB.xml\n",
      "Telford and Wrekin Council: English language http://ratings.food.gov.uk/OpenDataFiles/FHRS900en-GB.xml\n",
      "Walsall: English language http://ratings.food.gov.uk/OpenDataFiles/FHRS433en-GB.xml\n",
      "Warwick: English language http://ratings.food.gov.uk/OpenDataFiles/FHRS321en-GB.xml\n",
      "Wolverhampton: English language http://ratings.food.gov.uk/OpenDataFiles/FHRS436en-GB.xml\n",
      "Worcester City: English language http://ratings.food.gov.uk/OpenDataFiles/FHRS151en-GB.xml\n",
      "Wychavon: English language http://ratings.food.gov.uk/OpenDataFiles/FHRS152en-GB.xml\n",
      "Wyre Forest: English language http://ratings.food.gov.uk/OpenDataFiles/FHRS153en-GB.xml\n",
      "Barnsley: English language http://ratings.food.gov.uk/OpenDataFiles/FHRS401en-GB.xml\n",
      "Bradford: English language http://ratings.food.gov.uk/OpenDataFiles/FHRS404en-GB.xml\n",
      "Calderdale: English language http://ratings.food.gov.uk/OpenDataFiles/FHRS406en-GB.xml\n",
      "Craven: English language http://ratings.food.gov.uk/OpenDataFiles/FHRS250en-GB.xml\n",
      "Doncaster: English language http://ratings.food.gov.uk/OpenDataFiles/FHRS408en-GB.xml\n",
      "East Riding of Yorkshire: English language http://ratings.food.gov.uk/OpenDataFiles/FHRS863en-GB.xml\n",
      "Hambleton: English language http://ratings.food.gov.uk/OpenDataFiles/FHRS251en-GB.xml\n",
      "Harrogate: English language http://ratings.food.gov.uk/OpenDataFiles/FHRS252en-GB.xml\n",
      "Hull City: English language http://ratings.food.gov.uk/OpenDataFiles/FHRS866en-GB.xml\n",
      "Kirklees: English language http://ratings.food.gov.uk/OpenDataFiles/FHRS411en-GB.xml\n",
      "Leeds: English language http://ratings.food.gov.uk/OpenDataFiles/FHRS413en-GB.xml\n",
      "North East Lincolnshire: English language http://ratings.food.gov.uk/OpenDataFiles/FHRS865en-GB.xml\n",
      "North Lincolnshire: English language http://ratings.food.gov.uk/OpenDataFiles/FHRS864en-GB.xml\n",
      "Richmondshire: English language http://ratings.food.gov.uk/OpenDataFiles/FHRS253en-GB.xml\n",
      "Rotherham: English language http://ratings.food.gov.uk/OpenDataFiles/FHRS420en-GB.xml\n",
      "Ryedale: English language http://ratings.food.gov.uk/OpenDataFiles/FHRS254en-GB.xml\n",
      "Scarborough: English language http://ratings.food.gov.uk/OpenDataFiles/FHRS255en-GB.xml\n",
      "Selby: English language http://ratings.food.gov.uk/OpenDataFiles/FHRS256en-GB.xml\n",
      "Sheffield: English language http://ratings.food.gov.uk/OpenDataFiles/FHRS425en-GB.xml\n",
      "Wakefield: English language http://ratings.food.gov.uk/OpenDataFiles/FHRS432en-GB.xml\n",
      "York: English language http://ratings.food.gov.uk/OpenDataFiles/FHRS868en-GB.xml\n",
      "Antrim and Newtownabbey: English language http://ratings.food.gov.uk/OpenDataFiles/FHRS801en-GB.xml\n",
      "Ards and North Down: English language http://ratings.food.gov.uk/OpenDataFiles/FHRS802en-GB.xml\n",
      "Armagh City, Banbridge and Craigavon: English language http://ratings.food.gov.uk/OpenDataFiles/FHRS803en-GB.xml\n",
      "Belfast City: English language http://ratings.food.gov.uk/OpenDataFiles/FHRS807en-GB.xml\n",
      "Causeway Coast and Glens: English language http://ratings.food.gov.uk/OpenDataFiles/FHRS805en-GB.xml\n",
      "Derry City and Strabane: English language http://ratings.food.gov.uk/OpenDataFiles/FHRS813en-GB.xml\n",
      "Fermanagh and Omagh: English language http://ratings.food.gov.uk/OpenDataFiles/FHRS816en-GB.xml\n",
      "Lisburn and Castlereagh City: English language http://ratings.food.gov.uk/OpenDataFiles/FHRS809en-GB.xml\n",
      "Mid and East Antrim: English language http://ratings.food.gov.uk/OpenDataFiles/FHRS804en-GB.xml\n",
      "Mid Ulster: English language http://ratings.food.gov.uk/OpenDataFiles/FHRS811en-GB.xml\n",
      "Newry, Mourne and Down: English language http://ratings.food.gov.uk/OpenDataFiles/FHRS814en-GB.xml\n",
      "Aberdeen City: English language http://ratings.food.gov.uk/OpenDataFiles/FHRS760en-GB.xml\n",
      "Aberdeenshire: English language http://ratings.food.gov.uk/OpenDataFiles/FHRS761en-GB.xml\n",
      "Angus: English language http://ratings.food.gov.uk/OpenDataFiles/FHRS762en-GB.xml\n",
      "Argyll and Bute: English language http://ratings.food.gov.uk/OpenDataFiles/FHRS763en-GB.xml\n",
      "Clackmannanshire: English language http://ratings.food.gov.uk/OpenDataFiles/FHRS768en-GB.xml\n",
      "Comhairle nan Eilean Siar (Western Isles): English language http://ratings.food.gov.uk/OpenDataFiles/FHRS791en-GB.xml\n",
      "Dumfries and Galloway: English language http://ratings.food.gov.uk/OpenDataFiles/FHRS770en-GB.xml\n",
      "Dundee City: English language http://ratings.food.gov.uk/OpenDataFiles/FHRS772en-GB.xml\n",
      "East Ayrshire: English language http://ratings.food.gov.uk/OpenDataFiles/FHRS764en-GB.xml\n",
      "East Dunbartonshire: English language http://ratings.food.gov.uk/OpenDataFiles/FHRS771en-GB.xml\n",
      "East Lothian: English language http://ratings.food.gov.uk/OpenDataFiles/FHRS781en-GB.xml\n",
      "East Renfrewshire: English language http://ratings.food.gov.uk/OpenDataFiles/FHRS787en-GB.xml\n",
      "Edinburgh (City of): English language http://ratings.food.gov.uk/OpenDataFiles/FHRS773en-GB.xml\n",
      "Falkirk: English language http://ratings.food.gov.uk/OpenDataFiles/FHRS774en-GB.xml\n",
      "Fife: English language http://ratings.food.gov.uk/OpenDataFiles/FHRS775en-GB.xml\n",
      "Glasgow City: English language http://ratings.food.gov.uk/OpenDataFiles/FHRS776en-GB.xml\n",
      "Highland: English language http://ratings.food.gov.uk/OpenDataFiles/FHRS777en-GB.xml\n",
      "Inverclyde: English language http://ratings.food.gov.uk/OpenDataFiles/FHRS778en-GB.xml\n",
      "Midlothian: English language http://ratings.food.gov.uk/OpenDataFiles/FHRS783en-GB.xml\n",
      "Moray: English language http://ratings.food.gov.uk/OpenDataFiles/FHRS784en-GB.xml\n",
      "North Ayrshire: English language http://ratings.food.gov.uk/OpenDataFiles/FHRS765en-GB.xml\n",
      "North Lanarkshire: English language http://ratings.food.gov.uk/OpenDataFiles/FHRS779en-GB.xml\n",
      "Orkney Islands: English language http://ratings.food.gov.uk/OpenDataFiles/FHRS785en-GB.xml\n",
      "Perth and Kinross: English language http://ratings.food.gov.uk/OpenDataFiles/FHRS786en-GB.xml\n",
      "Renfrewshire: English language http://ratings.food.gov.uk/OpenDataFiles/FHRS788en-GB.xml\n",
      "Scottish Borders: English language http://ratings.food.gov.uk/OpenDataFiles/FHRS767en-GB.xml\n",
      "Shetland Islands: English language http://ratings.food.gov.uk/OpenDataFiles/FHRS789en-GB.xml\n",
      "South Ayrshire: English language http://ratings.food.gov.uk/OpenDataFiles/FHRS766en-GB.xml\n"
     ]
    },
    {
     "name": "stdout",
     "output_type": "stream",
     "text": [
      "South Lanarkshire: English language http://ratings.food.gov.uk/OpenDataFiles/FHRS780en-GB.xml\n",
      "Stirling: English language http://ratings.food.gov.uk/OpenDataFiles/FHRS790en-GB.xml\n",
      "West Dunbartonshire: English language http://ratings.food.gov.uk/OpenDataFiles/FHRS769en-GB.xml\n",
      "West Lothian: English language http://ratings.food.gov.uk/OpenDataFiles/FHRS782en-GB.xml\n",
      "Anglesey: Welsh language http://ratings.food.gov.uk/OpenDataFiles/FHRS551cy-GB.xml\n",
      "Anglesey: English language http://ratings.food.gov.uk/OpenDataFiles/FHRS551en-GB.xml\n",
      "Blaenau Gwent: Welsh language http://ratings.food.gov.uk/OpenDataFiles/FHRS552cy-GB.xml\n",
      "Blaenau Gwent: English language http://ratings.food.gov.uk/OpenDataFiles/FHRS552en-GB.xml\n",
      "Bridgend: Welsh language http://ratings.food.gov.uk/OpenDataFiles/FHRS553cy-GB.xml\n",
      "Bridgend: English language http://ratings.food.gov.uk/OpenDataFiles/FHRS553en-GB.xml\n",
      "Caerphilly: Welsh language http://ratings.food.gov.uk/OpenDataFiles/FHRS555cy-GB.xml\n",
      "Caerphilly: English language http://ratings.food.gov.uk/OpenDataFiles/FHRS555en-GB.xml\n",
      "Cardiff: Welsh language http://ratings.food.gov.uk/OpenDataFiles/FHRS556cy-GB.xml\n",
      "Cardiff: English language http://ratings.food.gov.uk/OpenDataFiles/FHRS556en-GB.xml\n",
      "Carmarthenshire: Welsh language http://ratings.food.gov.uk/OpenDataFiles/FHRS558cy-GB.xml\n",
      "Carmarthenshire: English language http://ratings.food.gov.uk/OpenDataFiles/FHRS558en-GB.xml\n",
      "Ceredigion: Welsh language http://ratings.food.gov.uk/OpenDataFiles/FHRS557cy-GB.xml\n",
      "Ceredigion: English language http://ratings.food.gov.uk/OpenDataFiles/FHRS557en-GB.xml\n",
      "Conwy: Welsh language http://ratings.food.gov.uk/OpenDataFiles/FHRS550cy-GB.xml\n",
      "Conwy: English language http://ratings.food.gov.uk/OpenDataFiles/FHRS550en-GB.xml\n",
      "Denbighshire: Welsh language http://ratings.food.gov.uk/OpenDataFiles/FHRS559cy-GB.xml\n",
      "Denbighshire: English language http://ratings.food.gov.uk/OpenDataFiles/FHRS559en-GB.xml\n",
      "Flintshire: Welsh language http://ratings.food.gov.uk/OpenDataFiles/FHRS560cy-GB.xml\n",
      "Flintshire: English language http://ratings.food.gov.uk/OpenDataFiles/FHRS560en-GB.xml\n",
      "Gwynedd: Welsh language http://ratings.food.gov.uk/OpenDataFiles/FHRS554cy-GB.xml\n",
      "Gwynedd: English language http://ratings.food.gov.uk/OpenDataFiles/FHRS554en-GB.xml\n",
      "Merthyr Tydfil: Welsh language http://ratings.food.gov.uk/OpenDataFiles/FHRS561cy-GB.xml\n",
      "Merthyr Tydfil: English language http://ratings.food.gov.uk/OpenDataFiles/FHRS561en-GB.xml\n",
      "Monmouthshire: Welsh language http://ratings.food.gov.uk/OpenDataFiles/FHRS562cy-GB.xml\n",
      "Monmouthshire: English language http://ratings.food.gov.uk/OpenDataFiles/FHRS562en-GB.xml\n",
      "Neath Port Talbot: Welsh language http://ratings.food.gov.uk/OpenDataFiles/FHRS563cy-GB.xml\n",
      "Neath Port Talbot: English language http://ratings.food.gov.uk/OpenDataFiles/FHRS563en-GB.xml\n",
      "Newport: Welsh language http://ratings.food.gov.uk/OpenDataFiles/FHRS564cy-GB.xml\n",
      "Newport: English language http://ratings.food.gov.uk/OpenDataFiles/FHRS564en-GB.xml\n",
      "Pembrokeshire: Welsh language http://ratings.food.gov.uk/OpenDataFiles/FHRS565cy-GB.xml\n",
      "Pembrokeshire: English language http://ratings.food.gov.uk/OpenDataFiles/FHRS565en-GB.xml\n",
      "Powys: Welsh language http://ratings.food.gov.uk/OpenDataFiles/FHRS566cy-GB.xml\n",
      "Powys: English language http://ratings.food.gov.uk/OpenDataFiles/FHRS566en-GB.xml\n",
      "Rhondda Cynon Taf: Welsh language http://ratings.food.gov.uk/OpenDataFiles/FHRS567cy-GB.xml\n",
      "Rhondda Cynon Taf: English language http://ratings.food.gov.uk/OpenDataFiles/FHRS567en-GB.xml\n",
      "Swansea: Welsh language http://ratings.food.gov.uk/OpenDataFiles/FHRS568cy-GB.xml\n",
      "Swansea: English language http://ratings.food.gov.uk/OpenDataFiles/FHRS568en-GB.xml\n",
      "Torfaen: Welsh language http://ratings.food.gov.uk/OpenDataFiles/FHRS569cy-GB.xml\n",
      "Torfaen: English language http://ratings.food.gov.uk/OpenDataFiles/FHRS569en-GB.xml\n",
      "Vale of Glamorgan: Welsh language http://ratings.food.gov.uk/OpenDataFiles/FHRS570cy-GB.xml\n",
      "Vale of Glamorgan: English language http://ratings.food.gov.uk/OpenDataFiles/FHRS570en-GB.xml\n",
      "Wrexham: Welsh language http://ratings.food.gov.uk/OpenDataFiles/FHRS571cy-GB.xml\n",
      "Wrexham: English language http://ratings.food.gov.uk/OpenDataFiles/FHRS571en-GB.xml\n"
     ]
    }
   ],
   "source": [
    "for i in range(len(test3)):\n",
    "    \n",
    "    try:\n",
    "        print (test3[i].a['title'], test3[i].a['href'])\n",
    "        \n",
    "        health_rating_url[test3[i].a['title']] = test3[i].a['href']\n",
    "        \n",
    "        #health_rating_url = {test3[i].a['title'] : test3[i].a['href']}\n",
    "        \n",
    "    except TypeError:\n",
    "        \n",
    "        pass"
   ]
  },
  {
   "cell_type": "code",
   "execution_count": 16,
   "metadata": {
    "scrolled": true
   },
   "outputs": [
    {
     "data": {
      "text/plain": [
       "'http://ratings.food.gov.uk/OpenDataFiles/FHRS760en-GB.xml'"
      ]
     },
     "execution_count": 16,
     "metadata": {},
     "output_type": "execute_result"
    }
   ],
   "source": [
    "health_rating_url['Aberdeen City: English language']"
   ]
  },
  {
   "cell_type": "code",
   "execution_count": 31,
   "metadata": {
    "scrolled": true
   },
   "outputs": [
    {
     "data": {
      "text/plain": [
       "1761803"
      ]
     },
     "execution_count": 31,
     "metadata": {},
     "output_type": "execute_result"
    }
   ],
   "source": [
    "#file2.write(string_attemp)"
   ]
  },
  {
   "cell_type": "code",
   "execution_count": 144,
   "metadata": {
    "collapsed": true
   },
   "outputs": [],
   "source": [
    "#rr = requests.get(health_rating_url['Broxbourne: English language'] )"
   ]
  },
  {
   "cell_type": "code",
   "execution_count": 145,
   "metadata": {
    "collapsed": true
   },
   "outputs": [],
   "source": [
    "#rr.encoding = 'utf-8'"
   ]
  },
  {
   "cell_type": "code",
   "execution_count": 146,
   "metadata": {},
   "outputs": [
    {
     "data": {
      "text/plain": [
       "str"
      ]
     },
     "execution_count": 146,
     "metadata": {},
     "output_type": "execute_result"
    }
   ],
   "source": [
    "#type(rr.text)"
   ]
  },
  {
   "cell_type": "code",
   "execution_count": 139,
   "metadata": {},
   "outputs": [
    {
     "ename": "TypeError",
     "evalue": "write() argument must be str, not bytes",
     "output_type": "error",
     "traceback": [
      "\u001b[1;31m---------------------------------------------------------------------------\u001b[0m",
      "\u001b[1;31mTypeError\u001b[0m                                 Traceback (most recent call last)",
      "\u001b[1;32m<ipython-input-139-a868c890d077>\u001b[0m in \u001b[0;36m<module>\u001b[1;34m()\u001b[0m\n\u001b[0;32m      1\u001b[0m \u001b[1;32mwith\u001b[0m \u001b[0mopen\u001b[0m\u001b[1;33m(\u001b[0m\u001b[0mpath\u001b[0m \u001b[1;33m,\u001b[0m \u001b[1;34m'w'\u001b[0m\u001b[1;33m)\u001b[0m \u001b[1;32mas\u001b[0m \u001b[0mf\u001b[0m\u001b[1;33m:\u001b[0m\u001b[1;33m\u001b[0m\u001b[0m\n\u001b[0;32m      2\u001b[0m \u001b[1;33m\u001b[0m\u001b[0m\n\u001b[1;32m----> 3\u001b[1;33m     \u001b[0mf\u001b[0m\u001b[1;33m.\u001b[0m\u001b[0mwrite\u001b[0m\u001b[1;33m(\u001b[0m\u001b[0mmydata\u001b[0m\u001b[1;33m)\u001b[0m\u001b[1;33m\u001b[0m\u001b[0m\n\u001b[0m\u001b[0;32m      4\u001b[0m \u001b[1;33m\u001b[0m\u001b[0m\n\u001b[0;32m      5\u001b[0m     \u001b[1;31m#f.close()\u001b[0m\u001b[1;33m\u001b[0m\u001b[1;33m\u001b[0m\u001b[0m\n",
      "\u001b[1;31mTypeError\u001b[0m: write() argument must be str, not bytes"
     ]
    }
   ],
   "source": [
    "#with open(path , 'w') as f:\n",
    "    \n",
    "  #  f.write(mydata)\n",
    "    \n",
    "    #f.close()"
   ]
  },
  {
   "cell_type": "code",
   "execution_count": 95,
   "metadata": {},
   "outputs": [
    {
     "data": {
      "text/plain": [
       "'D:\\\\Users\\\\kmatharoo\\\\Programming Development\\\\Food\\\\Broxbourne: English language.xml'"
      ]
     },
     "execution_count": 95,
     "metadata": {},
     "output_type": "execute_result"
    }
   ],
   "source": [
    "#location"
   ]
  },
  {
   "cell_type": "code",
   "execution_count": 134,
   "metadata": {
    "collapsed": true
   },
   "outputs": [],
   "source": [
    "#path = '{}.xml'.format(i)"
   ]
  },
  {
   "cell_type": "code",
   "execution_count": 128,
   "metadata": {
    "scrolled": true
   },
   "outputs": [
    {
     "data": {
      "text/plain": [
       "'Broxbourne: English language.xml'"
      ]
     },
     "execution_count": 128,
     "metadata": {},
     "output_type": "execute_result"
    }
   ],
   "source": [
    "# path"
   ]
  },
  {
   "cell_type": "code",
   "execution_count": 22,
   "metadata": {},
   "outputs": [
    {
     "name": "stdout",
     "output_type": "stream",
     "text": [
      "Created xml file for: Babergh: English language\n",
      "Created xml file for: Basildon: English language\n",
      "Created xml file for: Bedford: English language\n",
      "Created xml file for: Braintree: English language\n",
      "Created xml file for: Breckland: English language\n",
      "Created xml file for: Brentwood: English language\n",
      "Created xml file for: Broadland: English language\n",
      "Created xml file for: Broxbourne: English language\n",
      "Created xml file for: Cambridge City: English language\n",
      "Created xml file for: Castle Point: English language\n",
      "Created xml file for: Central Bedfordshire: English language\n",
      "Created xml file for: Chelmsford: English language\n",
      "Created xml file for: Colchester: English language\n",
      "Created xml file for: Dacorum: English language\n",
      "Created xml file for: East Cambridgeshire: English language\n",
      "Created xml file for: East Hertfordshire: English language\n",
      "Created xml file for: Epping Forest: English language\n",
      "Created xml file for: Fenland: English language\n",
      "Created xml file for: Forest Heath: English language\n",
      "Created xml file for: Great Yarmouth: English language\n",
      "Created xml file for: Harlow: English language\n",
      "Created xml file for: Hertsmere: English language\n",
      "Created xml file for: Huntingdonshire: English language\n",
      "Created xml file for: Ipswich: English language\n",
      "Created xml file for: King's Lynn and West Norfolk: English language\n",
      "Created xml file for: Luton: English language\n",
      "Created xml file for: Maldon: English language\n",
      "Created xml file for: Mid Suffolk: English language\n",
      "Created xml file for: North Hertfordshire: English language\n",
      "Created xml file for: North Norfolk: English language\n",
      "Created xml file for: Norwich City: English language\n",
      "Created xml file for: Peterborough City: English language\n",
      "Created xml file for: Rochford: English language\n",
      "Created xml file for: South Cambridgeshire: English language\n",
      "Created xml file for: South Norfolk: English language\n",
      "Created xml file for: Southend-On-Sea: English language\n",
      "Created xml file for: St Albans City: English language\n",
      "Created xml file for: St Edmundsbury: English language\n",
      "Created xml file for: Stevenage: English language\n",
      "Created xml file for: Suffolk Coastal: English language\n",
      "Created xml file for: Tendring: English language\n",
      "Created xml file for: Three Rivers: English language\n",
      "Created xml file for: Thurrock: English language\n",
      "Created xml file for: Uttlesford: English language\n",
      "Created xml file for: Watford: English language\n",
      "Created xml file for: Waveney: English language\n",
      "Created xml file for: Welwyn Hatfield: English language\n",
      "Created xml file for: Amber Valley: English language\n",
      "Created xml file for: Ashfield: English language\n",
      "Created xml file for: Bassetlaw: English language\n",
      "Created xml file for: Blaby: English language\n",
      "Created xml file for: Bolsover: English language\n",
      "Created xml file for: Boston: English language\n",
      "Created xml file for: Broxtowe: English language\n",
      "Created xml file for: Charnwood: English language\n",
      "Created xml file for: Chesterfield: English language\n",
      "Created xml file for: Corby: English language\n",
      "Created xml file for: Daventry: English language\n",
      "Created xml file for: Derby City: English language\n",
      "Created xml file for: Derbyshire Dales: English language\n",
      "Created xml file for: East Lindsey: English language\n",
      "Created xml file for: East Northamptonshire: English language\n",
      "Created xml file for: Erewash: English language\n",
      "Created xml file for: Gedling: English language\n",
      "Created xml file for: Harborough: English language\n",
      "Created xml file for: High Peak: English language\n",
      "Created xml file for: Hinckley and Bosworth: English language\n",
      "Created xml file for: Kettering: English language\n",
      "Created xml file for: Leicester City: English language\n",
      "Created xml file for: Lincoln City: English language\n",
      "Created xml file for: Mansfield: English language\n",
      "Created xml file for: Melton: English language\n",
      "Created xml file for: Newark and Sherwood: English language\n",
      "Created xml file for: North East Derbyshire: English language\n",
      "Created xml file for: North Kesteven: English language\n",
      "Created xml file for: North West Leicestershire: English language\n",
      "Created xml file for: Northampton: English language\n",
      "Created xml file for: Nottingham City: English language\n",
      "Created xml file for: Oadby and Wigston: English language\n",
      "Created xml file for: Rushcliffe: English language\n",
      "Created xml file for: Rutland: English language\n",
      "Created xml file for: South Derbyshire: English language\n",
      "Created xml file for: South Holland: English language\n",
      "Created xml file for: South Kesteven: English language\n",
      "Created xml file for: South Northamptonshire: English language\n",
      "Created xml file for: Wellingborough: English language\n",
      "Created xml file for: West Lindsey: English language\n",
      "Created xml file for: Barking and Dagenham: English language\n",
      "Created xml file for: Barnet: English language\n",
      "Created xml file for: Bexley: English language\n",
      "Created xml file for: Brent: English language\n",
      "Created xml file for: Bromley: English language\n",
      "Created xml file for: Camden: English language\n",
      "Created xml file for: City of London Corporation: English language\n",
      "Created xml file for: Croydon: English language\n",
      "Created xml file for: Ealing: English language\n",
      "Created xml file for: Enfield: English language\n",
      "Created xml file for: Greenwich: English language\n",
      "Created xml file for: Hackney: English language\n",
      "Created xml file for: Hammersmith and Fulham: English language\n",
      "Created xml file for: Haringey: English language\n",
      "Created xml file for: Harrow: English language\n",
      "Created xml file for: Havering: English language\n",
      "Created xml file for: Hillingdon: English language\n",
      "Created xml file for: Hounslow: English language\n",
      "Created xml file for: Islington: English language\n",
      "Created xml file for: Kensington and Chelsea: English language\n",
      "Created xml file for: Kingston-Upon-Thames: English language\n",
      "Created xml file for: Lambeth: English language\n",
      "Created xml file for: Lewisham: English language\n",
      "Created xml file for: Merton: English language\n",
      "Created xml file for: Newham: English language\n",
      "Created xml file for: Redbridge: English language\n",
      "Created xml file for: Richmond-Upon-Thames: English language\n",
      "Created xml file for: Southwark: English language\n",
      "Created xml file for: Sutton: English language\n",
      "Created xml file for: Tower Hamlets: English language\n",
      "Created xml file for: Waltham Forest: English language\n",
      "Created xml file for: Wandsworth: English language\n",
      "Created xml file for: Westminster: English language\n",
      "Created xml file for: Darlington: English language\n",
      "Created xml file for: Durham: English language\n",
      "Created xml file for: Gateshead: English language\n",
      "Created xml file for: Hartlepool: English language\n",
      "Created xml file for: Middlesbrough: English language\n",
      "Created xml file for: Newcastle Upon Tyne: English language\n",
      "Created xml file for: North Tyneside: English language\n",
      "Created xml file for: Northumberland: English language\n",
      "Created xml file for: Redcar and Cleveland: English language\n",
      "Created xml file for: River Tees: English language\n",
      "Created xml file for: South Tyneside: English language\n",
      "Created xml file for: Stockton On Tees: English language\n",
      "Created xml file for: Sunderland: English language\n",
      "Created xml file for: Allerdale: English language\n",
      "Created xml file for: Barrow-in-Furness: English language\n",
      "Created xml file for: Blackburn: English language\n",
      "Created xml file for: Blackpool: English language\n",
      "Created xml file for: Bolton: English language\n",
      "Created xml file for: Burnley: English language\n",
      "Created xml file for: Bury: English language\n",
      "Created xml file for: Carlisle City: English language\n",
      "Created xml file for: Cheshire East: English language\n",
      "Created xml file for: Cheshire West and Chester: English language\n",
      "Created xml file for: Chorley: English language\n",
      "Created xml file for: Copeland: English language\n",
      "Created xml file for: Eden: English language\n",
      "Created xml file for: Fylde: English language\n",
      "Created xml file for: Halton: English language\n",
      "Created xml file for: Hyndburn: English language\n",
      "Created xml file for: Knowsley: English language\n",
      "Created xml file for: Lancaster City: English language\n",
      "Created xml file for: Liverpool: English language\n",
      "Created xml file for: Manchester: English language\n",
      "Created xml file for: Oldham: English language\n",
      "Created xml file for: Pendle: English language\n",
      "Created xml file for: Preston: English language\n",
      "Created xml file for: Ribble Valley: English language\n"
     ]
    },
    {
     "name": "stdout",
     "output_type": "stream",
     "text": [
      "Created xml file for: Rochdale: English language\n",
      "Created xml file for: Rossendale: English language\n",
      "Created xml file for: Salford: English language\n",
      "Created xml file for: Sefton: English language\n",
      "Created xml file for: South Lakeland: English language\n",
      "Created xml file for: South Ribble: English language\n",
      "Created xml file for: St Helens: English language\n",
      "Created xml file for: Stockport: English language\n",
      "Created xml file for: Tameside: English language\n",
      "Created xml file for: Trafford: English language\n",
      "Created xml file for: Warrington: English language\n",
      "Created xml file for: West Lancashire: English language\n",
      "Created xml file for: Wigan: English language\n",
      "Created xml file for: Wirral: English language\n",
      "Created xml file for: Wyre: English language\n",
      "Created xml file for: Adur: English language\n",
      "Created xml file for: Arun: English language\n",
      "Created xml file for: Ashford: English language\n",
      "Created xml file for: Aylesbury Vale: English language\n",
      "Created xml file for: Basingstoke and Deane: English language\n",
      "Created xml file for: Bracknell Forest: English language\n",
      "Created xml file for: Brighton and Hove: English language\n",
      "Created xml file for: Canterbury City: English language\n",
      "Created xml file for: Cherwell: English language\n",
      "Created xml file for: Chichester: English language\n",
      "Created xml file for: Chiltern: English language\n",
      "Created xml file for: Crawley: English language\n",
      "Created xml file for: Dartford: English language\n",
      "Created xml file for: Dover: English language\n",
      "Created xml file for: East Hampshire: English language\n",
      "Created xml file for: Eastbourne: English language\n",
      "Created xml file for: Eastleigh: English language\n",
      "Created xml file for: Elmbridge: English language\n",
      "Created xml file for: Epsom and Ewell: English language\n",
      "Created xml file for: Fareham: English language\n",
      "Created xml file for: Gosport: English language\n",
      "Created xml file for: Gravesham: English language\n",
      "Created xml file for: Guildford: English language\n",
      "Created xml file for: Hart: English language\n",
      "Created xml file for: Hastings: English language\n",
      "Created xml file for: Havant: English language\n",
      "Created xml file for: Horsham: English language\n",
      "Created xml file for: Isle of Wight: English language\n",
      "Created xml file for: Lewes: English language\n",
      "Created xml file for: Maidstone: English language\n",
      "Created xml file for: Medway: English language\n",
      "Created xml file for: Mid Sussex: English language\n",
      "Created xml file for: Milton Keynes: English language\n",
      "Created xml file for: Mole Valley: English language\n",
      "Created xml file for: New Forest: English language\n",
      "Created xml file for: Oxford City: English language\n",
      "Created xml file for: Portsmouth: English language\n",
      "Created xml file for: Reading: English language\n",
      "Created xml file for: Reigate and Banstead: English language\n",
      "Created xml file for: Rother: English language\n",
      "Created xml file for: Runnymede: English language\n",
      "Created xml file for: Rushmoor: English language\n",
      "Created xml file for: Sevenoaks: English language\n",
      "Created xml file for: Shepway: English language\n",
      "Created xml file for: Slough: English language\n",
      "Created xml file for: South Buckinghamshire: English language\n",
      "Created xml file for: South Oxfordshire: English language\n",
      "Created xml file for: Southampton: English language\n",
      "Created xml file for: Spelthorne: English language\n",
      "Created xml file for: Surrey Heath: English language\n",
      "Created xml file for: Swale: English language\n",
      "Created xml file for: Tandridge: English language\n",
      "Created xml file for: Test Valley: English language\n",
      "Created xml file for: Thanet: English language\n",
      "Created xml file for: Tonbridge and Malling: English language\n",
      "Created xml file for: Tunbridge Wells: English language\n",
      "Created xml file for: Vale of White Horse: English language\n",
      "Created xml file for: Waverley: English language\n",
      "Created xml file for: Wealden: English language\n",
      "Created xml file for: West Berkshire: English language\n",
      "Created xml file for: West Oxfordshire: English language\n",
      "Created xml file for: Winchester City: English language\n",
      "Created xml file for: Windsor and Maidenhead: English language\n",
      "Created xml file for: Woking: English language\n",
      "Created xml file for: Wokingham: English language\n",
      "Created xml file for: Worthing: English language\n",
      "Created xml file for: Wycombe: English language\n",
      "Created xml file for: Bath and North East Somerset: English language\n",
      "Created xml file for: Bournemouth: English language\n",
      "Created xml file for: Bristol: English language\n",
      "Created xml file for: Cheltenham: English language\n",
      "Created xml file for: Christchurch: English language\n",
      "Created xml file for: Cornwall: English language\n",
      "Created xml file for: Cotswold: English language\n",
      "Created xml file for: East Devon: English language\n",
      "Created xml file for: East Dorset: English language\n",
      "Created xml file for: Exeter City: English language\n",
      "Created xml file for: Forest of Dean: English language\n",
      "Created xml file for: Gloucester City: English language\n",
      "Created xml file for: Isles of Scilly: English language\n",
      "Created xml file for: Mendip: English language\n",
      "Created xml file for: Mid Devon: English language\n",
      "Created xml file for: North Devon: English language\n",
      "Created xml file for: North Dorset: English language\n",
      "Created xml file for: North Somerset: English language\n",
      "Created xml file for: Plymouth City: English language\n",
      "Created xml file for: Poole: English language\n",
      "Created xml file for: Purbeck: English language\n",
      "Created xml file for: Sedgemoor: English language\n",
      "Created xml file for: South Gloucestershire: English language\n",
      "Created xml file for: South Hams: English language\n",
      "Created xml file for: South Somerset: English language\n",
      "Created xml file for: Stroud: English language\n",
      "Created xml file for: Swindon: English language\n",
      "Created xml file for: Taunton Deane: English language\n",
      "Created xml file for: Teignbridge: English language\n",
      "Created xml file for: Tewkesbury: English language\n",
      "Created xml file for: Torbay: English language\n",
      "Created xml file for: Torridge: English language\n",
      "Created xml file for: West Devon: English language\n",
      "Created xml file for: West Dorset: English language\n",
      "Created xml file for: West Somerset: English language\n",
      "Created xml file for: Weymouth and Portland: English language\n",
      "Created xml file for: Wiltshire: English language\n",
      "Created xml file for: Birmingham: English language\n",
      "Created xml file for: Bromsgrove: English language\n",
      "Created xml file for: Cannock Chase: English language\n",
      "Created xml file for: Coventry: English language\n",
      "Created xml file for: Dudley: English language\n",
      "Created xml file for: East Staffordshire: English language\n",
      "Created xml file for: Herefordshire: English language\n",
      "Created xml file for: Lichfield: English language\n",
      "Created xml file for: Malvern Hills: English language\n",
      "Created xml file for: Newcastle-Under-Lyme: English language\n",
      "Created xml file for: North Warwickshire: English language\n",
      "Created xml file for: Nuneaton and Bedworth: English language\n",
      "Created xml file for: Redditch: English language\n",
      "Created xml file for: Rugby: English language\n",
      "Created xml file for: Sandwell: English language\n",
      "Created xml file for: Shropshire: English language\n",
      "Created xml file for: Solihull: English language\n",
      "Created xml file for: South Staffordshire: English language\n",
      "Created xml file for: Stafford: English language\n",
      "Created xml file for: Staffordshire Moorlands: English language\n",
      "Created xml file for: Stoke-On-Trent: English language\n",
      "Created xml file for: Stratford-on-Avon: English language\n",
      "Created xml file for: Tamworth: English language\n",
      "Created xml file for: Telford and Wrekin Council: English language\n",
      "Created xml file for: Walsall: English language\n",
      "Created xml file for: Warwick: English language\n",
      "Created xml file for: Wolverhampton: English language\n",
      "Created xml file for: Worcester City: English language\n",
      "Created xml file for: Wychavon: English language\n",
      "Created xml file for: Wyre Forest: English language\n",
      "Created xml file for: Barnsley: English language\n",
      "Created xml file for: Bradford: English language\n",
      "Created xml file for: Calderdale: English language\n",
      "Created xml file for: Craven: English language\n",
      "Created xml file for: Doncaster: English language\n",
      "Created xml file for: East Riding of Yorkshire: English language\n",
      "Created xml file for: Hambleton: English language\n",
      "Created xml file for: Harrogate: English language\n",
      "Created xml file for: Hull City: English language\n",
      "Created xml file for: Kirklees: English language\n"
     ]
    },
    {
     "name": "stdout",
     "output_type": "stream",
     "text": [
      "Created xml file for: Leeds: English language\n",
      "Created xml file for: North East Lincolnshire: English language\n",
      "Created xml file for: North Lincolnshire: English language\n",
      "Created xml file for: Richmondshire: English language\n",
      "Created xml file for: Rotherham: English language\n",
      "Created xml file for: Ryedale: English language\n",
      "Created xml file for: Scarborough: English language\n",
      "Created xml file for: Selby: English language\n",
      "Created xml file for: Sheffield: English language\n",
      "Created xml file for: Wakefield: English language\n",
      "Created xml file for: York: English language\n",
      "Created xml file for: Antrim and Newtownabbey: English language\n",
      "Created xml file for: Ards and North Down: English language\n",
      "Created xml file for: Armagh City, Banbridge and Craigavon: English language\n",
      "Created xml file for: Belfast City: English language\n",
      "Created xml file for: Causeway Coast and Glens: English language\n",
      "Created xml file for: Derry City and Strabane: English language\n",
      "Created xml file for: Fermanagh and Omagh: English language\n",
      "Created xml file for: Lisburn and Castlereagh City: English language\n",
      "Created xml file for: Mid and East Antrim: English language\n"
     ]
    },
    {
     "ename": "KeyboardInterrupt",
     "evalue": "",
     "output_type": "error",
     "traceback": [
      "\u001b[1;31m---------------------------------------------------------------------------\u001b[0m",
      "\u001b[1;31mKeyboardInterrupt\u001b[0m                         Traceback (most recent call last)",
      "\u001b[1;32m<ipython-input-22-7f88b377df5f>\u001b[0m in \u001b[0;36m<module>\u001b[1;34m()\u001b[0m\n\u001b[0;32m     14\u001b[0m     \u001b[0mpath\u001b[0m \u001b[1;33m=\u001b[0m \u001b[0mfolder\u001b[0m \u001b[1;33m+\u001b[0m \u001b[1;34m'\\\\'\u001b[0m \u001b[1;33m+\u001b[0m \u001b[0mi\u001b[0m\u001b[1;33m.\u001b[0m\u001b[0mreplace\u001b[0m\u001b[1;33m(\u001b[0m\u001b[1;34m': English language'\u001b[0m\u001b[1;33m,\u001b[0m \u001b[1;34m''\u001b[0m\u001b[1;33m)\u001b[0m \u001b[1;33m+\u001b[0m \u001b[1;34m'.xml'\u001b[0m\u001b[1;33m\u001b[0m\u001b[0m\n\u001b[0;32m     15\u001b[0m \u001b[1;33m\u001b[0m\u001b[0m\n\u001b[1;32m---> 16\u001b[1;33m     \u001b[0mreq\u001b[0m \u001b[1;33m=\u001b[0m \u001b[0mrequests\u001b[0m\u001b[1;33m.\u001b[0m\u001b[0mget\u001b[0m\u001b[1;33m(\u001b[0m\u001b[0mj\u001b[0m\u001b[1;33m)\u001b[0m\u001b[1;33m\u001b[0m\u001b[0m\n\u001b[0m\u001b[0;32m     17\u001b[0m \u001b[1;33m\u001b[0m\u001b[0m\n\u001b[0;32m     18\u001b[0m     \u001b[0mreq\u001b[0m\u001b[1;33m.\u001b[0m\u001b[0mencoding\u001b[0m \u001b[1;33m=\u001b[0m \u001b[1;34m'utf-8'\u001b[0m\u001b[1;33m\u001b[0m\u001b[0m\n",
      "\u001b[1;32m~\\Anaconda3\\lib\\site-packages\\requests\\api.py\u001b[0m in \u001b[0;36mget\u001b[1;34m(url, params, **kwargs)\u001b[0m\n\u001b[0;32m     70\u001b[0m \u001b[1;33m\u001b[0m\u001b[0m\n\u001b[0;32m     71\u001b[0m     \u001b[0mkwargs\u001b[0m\u001b[1;33m.\u001b[0m\u001b[0msetdefault\u001b[0m\u001b[1;33m(\u001b[0m\u001b[1;34m'allow_redirects'\u001b[0m\u001b[1;33m,\u001b[0m \u001b[1;32mTrue\u001b[0m\u001b[1;33m)\u001b[0m\u001b[1;33m\u001b[0m\u001b[0m\n\u001b[1;32m---> 72\u001b[1;33m     \u001b[1;32mreturn\u001b[0m \u001b[0mrequest\u001b[0m\u001b[1;33m(\u001b[0m\u001b[1;34m'get'\u001b[0m\u001b[1;33m,\u001b[0m \u001b[0murl\u001b[0m\u001b[1;33m,\u001b[0m \u001b[0mparams\u001b[0m\u001b[1;33m=\u001b[0m\u001b[0mparams\u001b[0m\u001b[1;33m,\u001b[0m \u001b[1;33m**\u001b[0m\u001b[0mkwargs\u001b[0m\u001b[1;33m)\u001b[0m\u001b[1;33m\u001b[0m\u001b[0m\n\u001b[0m\u001b[0;32m     73\u001b[0m \u001b[1;33m\u001b[0m\u001b[0m\n\u001b[0;32m     74\u001b[0m \u001b[1;33m\u001b[0m\u001b[0m\n",
      "\u001b[1;32m~\\Anaconda3\\lib\\site-packages\\requests\\api.py\u001b[0m in \u001b[0;36mrequest\u001b[1;34m(method, url, **kwargs)\u001b[0m\n\u001b[0;32m     56\u001b[0m     \u001b[1;31m# cases, and look like a memory leak in others.\u001b[0m\u001b[1;33m\u001b[0m\u001b[1;33m\u001b[0m\u001b[0m\n\u001b[0;32m     57\u001b[0m     \u001b[1;32mwith\u001b[0m \u001b[0msessions\u001b[0m\u001b[1;33m.\u001b[0m\u001b[0mSession\u001b[0m\u001b[1;33m(\u001b[0m\u001b[1;33m)\u001b[0m \u001b[1;32mas\u001b[0m \u001b[0msession\u001b[0m\u001b[1;33m:\u001b[0m\u001b[1;33m\u001b[0m\u001b[0m\n\u001b[1;32m---> 58\u001b[1;33m         \u001b[1;32mreturn\u001b[0m \u001b[0msession\u001b[0m\u001b[1;33m.\u001b[0m\u001b[0mrequest\u001b[0m\u001b[1;33m(\u001b[0m\u001b[0mmethod\u001b[0m\u001b[1;33m=\u001b[0m\u001b[0mmethod\u001b[0m\u001b[1;33m,\u001b[0m \u001b[0murl\u001b[0m\u001b[1;33m=\u001b[0m\u001b[0murl\u001b[0m\u001b[1;33m,\u001b[0m \u001b[1;33m**\u001b[0m\u001b[0mkwargs\u001b[0m\u001b[1;33m)\u001b[0m\u001b[1;33m\u001b[0m\u001b[0m\n\u001b[0m\u001b[0;32m     59\u001b[0m \u001b[1;33m\u001b[0m\u001b[0m\n\u001b[0;32m     60\u001b[0m \u001b[1;33m\u001b[0m\u001b[0m\n",
      "\u001b[1;32m~\\Anaconda3\\lib\\site-packages\\requests\\sessions.py\u001b[0m in \u001b[0;36mrequest\u001b[1;34m(self, method, url, params, data, headers, cookies, files, auth, timeout, allow_redirects, proxies, hooks, stream, verify, cert, json)\u001b[0m\n\u001b[0;32m    497\u001b[0m \u001b[1;33m\u001b[0m\u001b[0m\n\u001b[0;32m    498\u001b[0m         settings = self.merge_environment_settings(\n\u001b[1;32m--> 499\u001b[1;33m             \u001b[0mprep\u001b[0m\u001b[1;33m.\u001b[0m\u001b[0murl\u001b[0m\u001b[1;33m,\u001b[0m \u001b[0mproxies\u001b[0m\u001b[1;33m,\u001b[0m \u001b[0mstream\u001b[0m\u001b[1;33m,\u001b[0m \u001b[0mverify\u001b[0m\u001b[1;33m,\u001b[0m \u001b[0mcert\u001b[0m\u001b[1;33m\u001b[0m\u001b[0m\n\u001b[0m\u001b[0;32m    500\u001b[0m         )\n\u001b[0;32m    501\u001b[0m \u001b[1;33m\u001b[0m\u001b[0m\n",
      "\u001b[1;32m~\\Anaconda3\\lib\\site-packages\\requests\\sessions.py\u001b[0m in \u001b[0;36mmerge_environment_settings\u001b[1;34m(self, url, proxies, stream, verify, cert)\u001b[0m\n\u001b[0;32m    670\u001b[0m             \u001b[1;31m# Set environment's proxies.\u001b[0m\u001b[1;33m\u001b[0m\u001b[1;33m\u001b[0m\u001b[0m\n\u001b[0;32m    671\u001b[0m             \u001b[0mno_proxy\u001b[0m \u001b[1;33m=\u001b[0m \u001b[0mproxies\u001b[0m\u001b[1;33m.\u001b[0m\u001b[0mget\u001b[0m\u001b[1;33m(\u001b[0m\u001b[1;34m'no_proxy'\u001b[0m\u001b[1;33m)\u001b[0m \u001b[1;32mif\u001b[0m \u001b[0mproxies\u001b[0m \u001b[1;32mis\u001b[0m \u001b[1;32mnot\u001b[0m \u001b[1;32mNone\u001b[0m \u001b[1;32melse\u001b[0m \u001b[1;32mNone\u001b[0m\u001b[1;33m\u001b[0m\u001b[0m\n\u001b[1;32m--> 672\u001b[1;33m             \u001b[0menv_proxies\u001b[0m \u001b[1;33m=\u001b[0m \u001b[0mget_environ_proxies\u001b[0m\u001b[1;33m(\u001b[0m\u001b[0murl\u001b[0m\u001b[1;33m,\u001b[0m \u001b[0mno_proxy\u001b[0m\u001b[1;33m=\u001b[0m\u001b[0mno_proxy\u001b[0m\u001b[1;33m)\u001b[0m\u001b[1;33m\u001b[0m\u001b[0m\n\u001b[0m\u001b[0;32m    673\u001b[0m             \u001b[1;32mfor\u001b[0m \u001b[1;33m(\u001b[0m\u001b[0mk\u001b[0m\u001b[1;33m,\u001b[0m \u001b[0mv\u001b[0m\u001b[1;33m)\u001b[0m \u001b[1;32min\u001b[0m \u001b[0menv_proxies\u001b[0m\u001b[1;33m.\u001b[0m\u001b[0mitems\u001b[0m\u001b[1;33m(\u001b[0m\u001b[1;33m)\u001b[0m\u001b[1;33m:\u001b[0m\u001b[1;33m\u001b[0m\u001b[0m\n\u001b[0;32m    674\u001b[0m                 \u001b[0mproxies\u001b[0m\u001b[1;33m.\u001b[0m\u001b[0msetdefault\u001b[0m\u001b[1;33m(\u001b[0m\u001b[0mk\u001b[0m\u001b[1;33m,\u001b[0m \u001b[0mv\u001b[0m\u001b[1;33m)\u001b[0m\u001b[1;33m\u001b[0m\u001b[0m\n",
      "\u001b[1;32m~\\Anaconda3\\lib\\site-packages\\requests\\utils.py\u001b[0m in \u001b[0;36mget_environ_proxies\u001b[1;34m(url, no_proxy)\u001b[0m\n\u001b[0;32m    690\u001b[0m     \u001b[1;33m:\u001b[0m\u001b[0mrtype\u001b[0m\u001b[1;33m:\u001b[0m \u001b[0mdict\u001b[0m\u001b[1;33m\u001b[0m\u001b[0m\n\u001b[0;32m    691\u001b[0m     \"\"\"\n\u001b[1;32m--> 692\u001b[1;33m     \u001b[1;32mif\u001b[0m \u001b[0mshould_bypass_proxies\u001b[0m\u001b[1;33m(\u001b[0m\u001b[0murl\u001b[0m\u001b[1;33m,\u001b[0m \u001b[0mno_proxy\u001b[0m\u001b[1;33m=\u001b[0m\u001b[0mno_proxy\u001b[0m\u001b[1;33m)\u001b[0m\u001b[1;33m:\u001b[0m\u001b[1;33m\u001b[0m\u001b[0m\n\u001b[0m\u001b[0;32m    693\u001b[0m         \u001b[1;32mreturn\u001b[0m \u001b[1;33m{\u001b[0m\u001b[1;33m}\u001b[0m\u001b[1;33m\u001b[0m\u001b[0m\n\u001b[0;32m    694\u001b[0m     \u001b[1;32melse\u001b[0m\u001b[1;33m:\u001b[0m\u001b[1;33m\u001b[0m\u001b[0m\n",
      "\u001b[1;32m~\\Anaconda3\\lib\\site-packages\\requests\\utils.py\u001b[0m in \u001b[0;36mshould_bypass_proxies\u001b[1;34m(url, no_proxy)\u001b[0m\n\u001b[0;32m    674\u001b[0m     \u001b[1;32mwith\u001b[0m \u001b[0mset_environ\u001b[0m\u001b[1;33m(\u001b[0m\u001b[1;34m'no_proxy'\u001b[0m\u001b[1;33m,\u001b[0m \u001b[0mno_proxy_arg\u001b[0m\u001b[1;33m)\u001b[0m\u001b[1;33m:\u001b[0m\u001b[1;33m\u001b[0m\u001b[0m\n\u001b[0;32m    675\u001b[0m         \u001b[1;32mtry\u001b[0m\u001b[1;33m:\u001b[0m\u001b[1;33m\u001b[0m\u001b[0m\n\u001b[1;32m--> 676\u001b[1;33m             \u001b[0mbypass\u001b[0m \u001b[1;33m=\u001b[0m \u001b[0mproxy_bypass\u001b[0m\u001b[1;33m(\u001b[0m\u001b[0mnetloc\u001b[0m\u001b[1;33m)\u001b[0m\u001b[1;33m\u001b[0m\u001b[0m\n\u001b[0m\u001b[0;32m    677\u001b[0m         \u001b[1;32mexcept\u001b[0m \u001b[1;33m(\u001b[0m\u001b[0mTypeError\u001b[0m\u001b[1;33m,\u001b[0m \u001b[0msocket\u001b[0m\u001b[1;33m.\u001b[0m\u001b[0mgaierror\u001b[0m\u001b[1;33m)\u001b[0m\u001b[1;33m:\u001b[0m\u001b[1;33m\u001b[0m\u001b[0m\n\u001b[0;32m    678\u001b[0m             \u001b[0mbypass\u001b[0m \u001b[1;33m=\u001b[0m \u001b[1;32mFalse\u001b[0m\u001b[1;33m\u001b[0m\u001b[0m\n",
      "\u001b[1;32m~\\Anaconda3\\lib\\site-packages\\requests\\utils.py\u001b[0m in \u001b[0;36mproxy_bypass\u001b[1;34m(host)\u001b[0m\n\u001b[0;32m     85\u001b[0m             \u001b[1;32mreturn\u001b[0m \u001b[0mproxy_bypass_environment\u001b[0m\u001b[1;33m(\u001b[0m\u001b[0mhost\u001b[0m\u001b[1;33m)\u001b[0m\u001b[1;33m\u001b[0m\u001b[0m\n\u001b[0;32m     86\u001b[0m         \u001b[1;32melse\u001b[0m\u001b[1;33m:\u001b[0m\u001b[1;33m\u001b[0m\u001b[0m\n\u001b[1;32m---> 87\u001b[1;33m             \u001b[1;32mreturn\u001b[0m \u001b[0mproxy_bypass_registry\u001b[0m\u001b[1;33m(\u001b[0m\u001b[0mhost\u001b[0m\u001b[1;33m)\u001b[0m\u001b[1;33m\u001b[0m\u001b[0m\n\u001b[0m\u001b[0;32m     88\u001b[0m \u001b[1;33m\u001b[0m\u001b[0m\n\u001b[0;32m     89\u001b[0m \u001b[1;33m\u001b[0m\u001b[0m\n",
      "\u001b[1;32m~\\Anaconda3\\lib\\site-packages\\requests\\utils.py\u001b[0m in \u001b[0;36mproxy_bypass_registry\u001b[1;34m(host)\u001b[0m\n\u001b[0;32m     50\u001b[0m         \u001b[1;32mtry\u001b[0m\u001b[1;33m:\u001b[0m\u001b[1;33m\u001b[0m\u001b[0m\n\u001b[0;32m     51\u001b[0m             internetSettings = winreg.OpenKey(winreg.HKEY_CURRENT_USER,\n\u001b[1;32m---> 52\u001b[1;33m                 r'Software\\Microsoft\\Windows\\CurrentVersion\\Internet Settings')\n\u001b[0m\u001b[0;32m     53\u001b[0m             proxyEnable = winreg.QueryValueEx(internetSettings,\n\u001b[0;32m     54\u001b[0m                                               'ProxyEnable')[0]\n",
      "\u001b[1;31mKeyboardInterrupt\u001b[0m: "
     ]
    }
   ],
   "source": [
    "for i,j in health_rating_url.items():\n",
    "    \n",
    "    # location = os.getcwd() + '\\\\' + 'Food\\\\' + i + '.xml'\n",
    "    \n",
    "    folder = 'Data'\n",
    "    \n",
    "    # checking to see if the folder already exists \n",
    "    \n",
    "    try: \n",
    "        os.mkdir(folder)\n",
    "        \n",
    "    except FileExistsError: \n",
    "        \n",
    "        pass\n",
    "    \n",
    "    path = folder + '\\\\' + i.replace(': English language', '') + '.xml'\n",
    "        \n",
    "    req = requests.get(j) # calling each url in the dictionary \n",
    "    \n",
    "    req.encoding = 'utf-8' # changing encoding as it caused problems \n",
    "    \n",
    "    file = req.text # extracting the text from the html \n",
    "    \n",
    "    with open(path, 'w') as f: # writing each file to the 'Data' folder followed by their name\n",
    "        \n",
    "        f.write(file)\n",
    "        \n",
    "        f.close()\n",
    "        \n",
    "    print (\"Created xml file for: %s\" % i.replace(': English language' , ''))\n"
   ]
  }
 ],
 "metadata": {
  "kernelspec": {
   "display_name": "Python 3",
   "language": "python",
   "name": "python3"
  },
  "language_info": {
   "codemirror_mode": {
    "name": "ipython",
    "version": 3
   },
   "file_extension": ".py",
   "mimetype": "text/x-python",
   "name": "python",
   "nbconvert_exporter": "python",
   "pygments_lexer": "ipython3",
   "version": "3.6.3"
  }
 },
 "nbformat": 4,
 "nbformat_minor": 2
}
